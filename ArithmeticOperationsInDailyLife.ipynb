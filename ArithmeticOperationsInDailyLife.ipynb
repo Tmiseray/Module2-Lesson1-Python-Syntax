{
 "cells": [
  {
   "cell_type": "code",
   "execution_count": null,
   "metadata": {},
   "outputs": [],
   "source": [
    "# 3. Arithmetic Operations in Daily Life\n",
    "\n",
    "# Objective: The aim of this assignment is to \n",
    "# get familiarized with basic arithmetic operations and \n",
    "# understand how they can be applied in everyday situations."
   ]
  },
  {
   "cell_type": "code",
   "execution_count": 6,
   "metadata": {},
   "outputs": [
    {
     "name": "stdout",
     "output_type": "stream",
     "text": [
      "The total cost for the groceries would be 13 dollars!\n"
     ]
    }
   ],
   "source": [
    "# Task 1: Grocery Store Math \n",
    "\n",
    "# Calculate the total cost of three items you'd commonly find in a grocery store, \n",
    "# given their individual prices. \n",
    "# For example, what would be the cost of bread, peanut butter, and jelly be? \n",
    "# Prices don't need to be realistic!\n",
    "\n",
    "bread = 8\n",
    "peanut_butter = 3\n",
    "jelly = 2\n",
    "\n",
    "total_cost = bread + peanut_butter + jelly\n",
    "\n",
    "print(\"The total cost for the groceries would be\", total_cost, \"dollars!\")"
   ]
  },
  {
   "cell_type": "code",
   "execution_count": 9,
   "metadata": {},
   "outputs": [
    {
     "name": "stdout",
     "output_type": "stream",
     "text": [
      "The end of year balance after interest would be: 10700.0\n"
     ]
    }
   ],
   "source": [
    "# Task 2: Bank Interest \n",
    "\n",
    "# If you have a savings account with a particular initial amount and \n",
    "# a fixed yearly interest rate, calculate the total amount in your account after a year. \n",
    "# So if you had $10,000 at a 7% interest write code that would tell us \n",
    "# the amount at the end of the year. \n",
    "# For the example the expected outcome would be $10,700.\n",
    "\n",
    "savings = 10000\n",
    "fixed_interest = 7\n",
    "\n",
    "yearly_interest = savings * (fixed_interest/100)\n",
    "\n",
    "savings += yearly_interest\n",
    "\n",
    "print(\"The end of year balance after interest would be:\", savings)"
   ]
  },
  {
   "cell_type": "code",
   "execution_count": null,
   "metadata": {},
   "outputs": [],
   "source": []
  }
 ],
 "metadata": {
  "kernelspec": {
   "display_name": "Python 3",
   "language": "python",
   "name": "python3"
  },
  "language_info": {
   "codemirror_mode": {
    "name": "ipython",
    "version": 3
   },
   "file_extension": ".py",
   "mimetype": "text/x-python",
   "name": "python",
   "nbconvert_exporter": "python",
   "pygments_lexer": "ipython3",
   "version": "3.10.6"
  }
 },
 "nbformat": 4,
 "nbformat_minor": 2
}
