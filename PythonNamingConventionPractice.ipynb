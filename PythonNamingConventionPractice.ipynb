{
 "cells": [
  {
   "cell_type": "code",
   "execution_count": null,
   "metadata": {},
   "outputs": [],
   "source": [
    "# 2. Python Naming Convention Practice\n",
    "\n",
    "# Objective: The aim of this assignment is to understand and \n",
    "# apply Python's naming conventions, particularly for variables and constants."
   ]
  },
  {
   "cell_type": "code",
   "execution_count": 2,
   "metadata": {},
   "outputs": [],
   "source": [
    "# Task 1: Code Correction \n",
    "\n",
    "# You have been given a piece of code with several variable and \n",
    "# constant names that don't follow the Python naming convention. \n",
    "# Your task is to correct them:\n",
    "\n",
    "# Pi_value = 3.14\n",
    "# userAge = 25\n",
    "# user_location = \"New York\"\n",
    "# MAXLIMIT = 1000\n",
    "\n",
    "PI_VALUE = 3.14\n",
    "user_age = 25\n",
    "user_location = \"New York\"\n",
    "MAX_LIMIT = 1000"
   ]
  },
  {
   "cell_type": "code",
   "execution_count": null,
   "metadata": {},
   "outputs": [],
   "source": []
  }
 ],
 "metadata": {
  "kernelspec": {
   "display_name": "Python 3",
   "language": "python",
   "name": "python3"
  },
  "language_info": {
   "codemirror_mode": {
    "name": "ipython",
    "version": 3
   },
   "file_extension": ".py",
   "mimetype": "text/x-python",
   "name": "python",
   "nbconvert_exporter": "python",
   "pygments_lexer": "ipython3",
   "version": "3.10.6"
  }
 },
 "nbformat": 4,
 "nbformat_minor": 2
}
