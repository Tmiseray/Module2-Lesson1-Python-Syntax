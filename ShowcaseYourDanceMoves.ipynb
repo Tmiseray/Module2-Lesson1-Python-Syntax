{
 "cells": [
  {
   "cell_type": "code",
   "execution_count": null,
   "metadata": {},
   "outputs": [],
   "source": [
    "# 1. Showcase Your Dance Moves!\n",
    " \n",
    "# Python Indentation Practice with if Statements\n",
    "\n",
    "# Objective: The aim of this assignment is to understand the importance of indentation in \n",
    "# Python, especially with if statements."
   ]
  },
  {
   "cell_type": "code",
   "execution_count": 11,
   "metadata": {},
   "outputs": [
    {
     "name": "stdout",
     "output_type": "stream",
     "text": [
      "Wear sunglasses!\n"
     ]
    }
   ],
   "source": [
    "# Task 1: Code Correction \n",
    "\n",
    "# Below is a piece of Python code with incorrect indentation. \n",
    "# Your task is to correct it.\n",
    "\n",
    "# weather = \"sunny\"\n",
    "\n",
    "# if weather == \"sunny\":\n",
    "# print(\"Wear sunglasses!\")\n",
    "# else:\n",
    "# print(\"Take an umbrella!\")\n",
    "\n",
    "weather = \"sunny\"\n",
    "\n",
    "if weather == \"sunny\":\n",
    "    print(\"Wear sunglasses!\")\n",
    "else:\n",
    "    print(\"Take an umbrella!\")"
   ]
  },
  {
   "cell_type": "code",
   "execution_count": 12,
   "metadata": {},
   "outputs": [
    {
     "name": "stdout",
     "output_type": "stream",
     "text": [
      "That's great to hear!\n"
     ]
    }
   ],
   "source": [
    "# Task 2: Your Mood Today \n",
    "\n",
    "# Ask the user how they feel today. \n",
    "# If they say \"happy\", print \"That's great to hear!\", \n",
    "# and if they say \"sad\", print \"I hope your day gets better!\". \n",
    "# Ensure your if statement is properly indented. \n",
    "# HINT: Use the input() function to ask the user how they feel! \n",
    "# If you need a refresher, \n",
    "# check this out here: https://www.w3schools.com/python/python_user_input.asp\n",
    "\n",
    "feeling = input(\"How are you feeling today?\")\n",
    "\n",
    "if feeling == \"happy\":\n",
    "    print(\"That's great to hear!\")\n",
    "if feeling == \"sad\":\n",
    "    print(\"I hope your day gets better!\")\n",
    "if (feeling != \"happy\" and feeling != \"sad\"):\n",
    "    print(\"I'm sorry, I don't understand how you're feeling...\")"
   ]
  },
  {
   "cell_type": "code",
   "execution_count": null,
   "metadata": {},
   "outputs": [],
   "source": []
  }
 ],
 "metadata": {
  "kernelspec": {
   "display_name": "Python 3",
   "language": "python",
   "name": "python3"
  },
  "language_info": {
   "codemirror_mode": {
    "name": "ipython",
    "version": 3
   },
   "file_extension": ".py",
   "mimetype": "text/x-python",
   "name": "python",
   "nbconvert_exporter": "python",
   "pygments_lexer": "ipython3",
   "version": "3.10.6"
  }
 },
 "nbformat": 4,
 "nbformat_minor": 2
}
